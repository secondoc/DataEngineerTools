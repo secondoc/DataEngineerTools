{
 "cells": [
  {
   "cell_type": "code",
   "execution_count": null,
   "metadata": {},
   "outputs": [],
   "source": [
    "#Vérification de l'installation de scrapy et importation\n",
    "#!pip install scrapy"
   ]
  },
  {
   "cell_type": "code",
   "execution_count": 1,
   "metadata": {},
   "outputs": [],
   "source": [
    "import scrapy\n",
    "import pandas as pd\n",
    "import numpy as np\n",
    "import pymongo\n",
    "import unicodedata\n",
    "import os"
   ]
  },
  {
   "cell_type": "code",
   "execution_count": 2,
   "metadata": {},
   "outputs": [],
   "source": [
    "from IPython.display import HTML"
   ]
  },
  {
   "cell_type": "code",
   "execution_count": 3,
   "metadata": {},
   "outputs": [],
   "source": [
    "from flask import Flask, render_template, redirect, url_for\n",
    "from flask_wtf import FlaskForm\n",
    "from wtforms import StringField, SubmitField\n",
    "from wtforms.validators import DataRequired\n",
    "from flask import render_template, render_template_string\n",
    "from jinja2 import Template"
   ]
  },
  {
   "cell_type": "code",
   "execution_count": 4,
   "metadata": {},
   "outputs": [
    {
     "name": "stdout",
     "output_type": "stream",
     "text": [
      "Writing accueil.py\n"
     ]
    }
   ],
   "source": [
    "%%file accueil.py\n",
    "from flask import Flask\n",
    "app=Flask(__name__, template_folder='template')\n",
    "\n",
    "from flask import request\n",
    "from flask import render_template, render_template_string\n",
    "from flask import redirect\n",
    "\n",
    "from ProjetDataEngineering import sortfilm, selectmovie\n",
    "\n",
    "import pymongo\n",
    "import pandas as pd\n",
    "import numpy as np\n",
    "import pymongo\n",
    "import unicodedata\n",
    "\n",
    "client = pymongo.MongoClient(\"mongo\")\n",
    "database = client['projet']\n",
    "collection = database['movies']\n",
    "    \n",
    "@app.route('/')\n",
    "def hello():\n",
    "    return render_template('accueil.html')\n",
    "\n",
    "@app.errorhandler(404)\n",
    "def page_not_found(e):\n",
    "    return render_template('erreur.html')\n",
    "\n",
    "@app.route('/recherche/')\n",
    "def recherche():\n",
    "    return render_template('recherche.html')\n",
    "\n",
    "@app.route('/recherche/', methods=['POST'])\n",
    "def recherche_post():\n",
    "    title = request.form['C']\n",
    "    return redirect('/recherche/'+title)\n",
    "\n",
    "@app.route('/recherche/<title>')\n",
    "def film(title):\n",
    "    return render_template('film.html', title=title)\n",
    "\n",
    "@app.route('/top/')\n",
    "def top():\n",
    "    return render_template('top.html')\n",
    "\n",
    "@app.route('/top/', methods=['POST'])\n",
    "def top_post():\n",
    "    top = request.form['tops']\n",
    "    genre = request.form['genres']\n",
    "    n = request.form['nb']\n",
    "    return redirect('/top/'+top+'/'+genre+'/'+n)\n",
    "\n",
    "@app.route('/top/<top>/<genre>/<n>')\n",
    "def top_film(top,genre,n):\n",
    "    if top==\"bestpub\":\n",
    "        top1=\"des films les mieux notés par le public\"\n",
    "    elif top==\"bestpre\":\n",
    "        top1=\"des films les mieux notés par la presse\"\n",
    "    elif top==\"rent\":\n",
    "        top1=\"des films les plsu rentables\"\n",
    "    elif top==\"recent\":\n",
    "        top1=\"des films les plus récents\"\n",
    "    elif top==\"ancien\":\n",
    "        top1=\"des films les plus anciens\"\n",
    "    elif top==\"long\":\n",
    "        top1=\"des plus longs films\"\n",
    "    elif top==\"court\":\n",
    "        top1=\"des films les plus courts\"\n",
    "    else:\n",
    "        top=\"des films\"\n",
    "    t=sortfilm(collection, top, genre, n)\n",
    "    return render_template('topfilm.html', top1=top1, genre=genre, n=n, t=t)\n",
    "        \n",
    "    \n",
    "if __name__ == '__main__':\n",
    "    app.run(debug=True, port=2745)"
   ]
  },
  {
   "cell_type": "code",
   "execution_count": 28,
   "metadata": {
    "scrolled": true
   },
   "outputs": [
    {
     "data": {
      "text/plain": [
       "2"
      ]
     },
     "execution_count": 28,
     "metadata": {},
     "output_type": "execute_result"
    }
   ],
   "source": []
  },
  {
   "cell_type": "code",
   "execution_count": null,
   "metadata": {},
   "outputs": [],
   "source": []
  }
 ],
 "metadata": {
  "kernelspec": {
   "display_name": "Python 3",
   "language": "python",
   "name": "python3"
  },
  "language_info": {
   "codemirror_mode": {
    "name": "ipython",
    "version": 3
   },
   "file_extension": ".py",
   "mimetype": "text/x-python",
   "name": "python",
   "nbconvert_exporter": "python",
   "pygments_lexer": "ipython3",
   "version": "3.8.6"
  }
 },
 "nbformat": 4,
 "nbformat_minor": 4
}
