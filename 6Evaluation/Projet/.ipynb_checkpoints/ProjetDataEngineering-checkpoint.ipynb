{
 "cells": [
  {
   "cell_type": "markdown",
   "metadata": {},
   "source": [
    "# Afin de lancer le code il suffit d'appuyer\n",
    "Lancer le programme ici et non sur une invite de commande est essentiel afin d'avoir la base mongodb correctement alimenté dans les conteneurs. Le programme n'aura pas d'accès à mongodb dans l'invite de commande. <br>\n",
    "Le programme va récupérer en direct la liste des 300 meilleurs films du site https://www.allocine.fr/ ainsi que ses informations. Il va également allez chercher des informations complémentaires sur le site de https://www.boxofficemojo.com/ concernant le résultat au boxoffice et le budget du film. <br>\n",
    "Le tout sera stocké dans une base de donnée mongodb avant d'être affiché sur le site de manière intéractive. <br>\n",
    "Veuillez vous référer au User Guide situé dans le fichier README.txt pour davantages d'informations. <br>"
   ]
  },
  {
   "cell_type": "code",
   "execution_count": null,
   "metadata": {},
   "outputs": [],
   "source": [
    "!python ProjetDataEngineering.py"
   ]
  },
  {
   "cell_type": "markdown",
   "metadata": {},
   "source": [
    "Un fois le programme terminé, vous pouvez naviguer sur le lien suivant : http://127.0.0.1/"
   ]
  }
 ],
 "metadata": {
  "kernelspec": {
   "display_name": "Python 3",
   "language": "python",
   "name": "python3"
  },
  "language_info": {
   "codemirror_mode": {
    "name": "ipython",
    "version": 3
   },
   "file_extension": ".py",
   "mimetype": "text/x-python",
   "name": "python",
   "nbconvert_exporter": "python",
   "pygments_lexer": "ipython3",
   "version": "3.8.6"
  }
 },
 "nbformat": 4,
 "nbformat_minor": 4
}
